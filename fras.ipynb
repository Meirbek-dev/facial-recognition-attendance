{
 "cells": [
  {
   "cell_type": "markdown",
   "id": "724019d7-b436-4958-87e3-5b663119e062",
   "metadata": {},
   "source": [
    "#### Проверка доступности CUDA & cuDNN\n"
   ]
  },
  {
   "cell_type": "code",
   "execution_count": null,
   "id": "aa4024b1-9f2a-401e-947e-e6f2db800840",
   "metadata": {},
   "outputs": [],
   "source": [
    "!python scripts/check-cuda.py"
   ]
  },
  {
   "cell_type": "markdown",
   "id": "a2ff9f07-b694-42ae-bc4e-c0789e24c3a4",
   "metadata": {},
   "source": [
    "#### Cоздает и обучает нейронную сеть для классификации рукописных цифр из набора данных MNIST с использованием TensorFlow и Keras для построения последовательной модели.\n"
   ]
  },
  {
   "cell_type": "code",
   "execution_count": null,
   "id": "9c9f7348-e960-4b07-8a57-89fd646e9e50",
   "metadata": {
    "scrolled": true
   },
   "outputs": [],
   "source": [
    "!python scripts/mnist-test.py"
   ]
  },
  {
   "cell_type": "markdown",
   "id": "3bcc9cb4-8c11-49e2-8d27-57436909f4ed",
   "metadata": {},
   "source": [
    "# 1. Подготовка\n"
   ]
  },
  {
   "cell_type": "markdown",
   "id": "bda4373b-d26a-4ae0-8895-a7399ae17c2b",
   "metadata": {},
   "source": [
    "## 1.1 Установка зависимостей\n"
   ]
  },
  {
   "cell_type": "code",
   "execution_count": null,
   "id": "628a262a-ebc5-4673-8058-17f1b9ce2f4f",
   "metadata": {},
   "outputs": [],
   "source": [
    "!pip install tf-nightly[and-cuda] keras opencv-python matplotlib"
   ]
  },
  {
   "cell_type": "markdown",
   "id": "84ad5457-6a2b-4e81-b720-5c2b8c3fb741",
   "metadata": {},
   "source": [
    "## 1.2 Импортирование стандартных зависимостей\n"
   ]
  },
  {
   "cell_type": "code",
   "execution_count": 1,
   "id": "13877693-e43a-4962-8307-2c5b02fff48b",
   "metadata": {},
   "outputs": [],
   "source": [
    "import cv2\n",
    "import os\n",
    "import random\n",
    "import numpy as np\n",
    "from matplotlib import pyplot as plt"
   ]
  },
  {
   "cell_type": "markdown",
   "id": "d19d0c31-4dea-48c2-bf8a-3ff33d1bb81e",
   "metadata": {},
   "source": [
    "## 1.3 Импортирование зависимостей TensorFlow (Функциональный API)\n"
   ]
  },
  {
   "cell_type": "code",
   "execution_count": 2,
   "id": "b65296b4-53e0-4df8-8dcf-8d567254f649",
   "metadata": {},
   "outputs": [],
   "source": [
    "from tensorflow.keras.models import Model\n",
    "from tensorflow.keras.layers import Layer, Conv2D, Dense, MaxPooling2D, Input, Flatten\n",
    "import tensorflow as tf"
   ]
  },
  {
   "cell_type": "markdown",
   "id": "2eb1c70c-668c-44fc-b607-69e85abd50b8",
   "metadata": {},
   "source": [
    "## 1.4 Установка роста потребления памяти GPU для предотвращения ошибо OOM.\n"
   ]
  },
  {
   "cell_type": "code",
   "execution_count": 3,
   "id": "9cae5944-33c2-4872-856f-214d126f271f",
   "metadata": {},
   "outputs": [],
   "source": [
    "gpus = tf.config.experimental.list_physical_devices(\"GPU\")\n",
    "for gpu in gpus:\n",
    "    tf.config.experimental.set_memory_growth(gpu, True)\n",
    "    print(gpu)"
   ]
  },
  {
   "cell_type": "markdown",
   "id": "65e218db-668b-438b-aeba-001748864044",
   "metadata": {},
   "source": [
    "## 1.5 Создание структуры директорий\n"
   ]
  },
  {
   "cell_type": "markdown",
   "id": "f4851e18-70a3-4a74-9173-b8f703a41c1d",
   "metadata": {},
   "source": [
    "#### Установка путей\n"
   ]
  },
  {
   "cell_type": "code",
   "execution_count": 4,
   "id": "d955d43f-dbbf-4759-acf5-aed045e50fd0",
   "metadata": {},
   "outputs": [],
   "source": [
    "POS_PATH = os.path.join(\"data\", \"positive\")\n",
    "NEG_PATH = os.path.join(\"data\", \"negative\")\n",
    "ANC_PATH = os.path.join(\"data\", \"anchor\")\n",
    "\n",
    "INPUT_IMG_DIR_PATH = os.path.join(\"application_data\", \"input_image\")\n",
    "VERIF_IMG_DIR_PATH = os.path.join(\"application_data\", \"verification_images\")\n",
    "\n",
    "INPUT_IMG_PATH = os.path.join(INPUT_IMG_DIR_PATH, \"input_image.jpg\")\n",
    "\n",
    "DIRECTORIES = [POS_PATH, NEG_PATH, ANC_PATH, INPUT_IMG_DIR_PATH, VERIF_IMG_DIR_PATH]"
   ]
  },
  {
   "cell_type": "markdown",
   "id": "ea06b328-6019-494b-8945-f0bff4f2f851",
   "metadata": {},
   "source": [
    "#### Создание директорий\n"
   ]
  },
  {
   "cell_type": "code",
   "execution_count": 5,
   "id": "0ce40b4b-9812-456b-8a90-ee675af76771",
   "metadata": {},
   "outputs": [
    {
     "name": "stdout",
     "output_type": "stream",
     "text": [
      "Директория data\\positive уже существует\n",
      "Директория data\\negative уже существует\n",
      "Директория data\\anchor уже существует\n",
      "Директория application_data\\input_image уже существует\n",
      "Директория application_data\\verification_images уже существует\n"
     ]
    }
   ],
   "source": [
    "for dir in DIRECTORIES:\n",
    "    try:\n",
    "        os.makedirs(dir)\n",
    "    except FileExistsError:\n",
    "        print(f\"Директория {dir} уже существует\")"
   ]
  },
  {
   "cell_type": "markdown",
   "id": "3e3ac173-c11f-47f6-8815-390c829e8021",
   "metadata": {},
   "source": [
    "# 2 Сбор данных\n"
   ]
  },
  {
   "cell_type": "markdown",
   "id": "20c99c97-85ac-4202-85a4-80feef84aa1c",
   "metadata": {},
   "source": [
    "Скачать все изображения в виде gzip-tar-файла https://vis-www.cs.umass.edu/lfw/#download\n"
   ]
  },
  {
   "cell_type": "markdown",
   "id": "b7af160f-266a-49f5-909c-2b824d017f9f",
   "metadata": {},
   "source": [
    "## 2.1 Распаковка набора данных\n"
   ]
  },
  {
   "cell_type": "code",
   "execution_count": 23,
   "id": "caa9bf5e-85f3-47d5-9bf7-a6490f4e29df",
   "metadata": {},
   "outputs": [],
   "source": [
    "DATASET_NAME = \"lfw\"\n",
    "DATASET_EXTENSION = \".tgz\""
   ]
  },
  {
   "cell_type": "code",
   "execution_count": 24,
   "id": "bb6b4572-2429-44e1-876b-6c9123691001",
   "metadata": {},
   "outputs": [
    {
     "name": "stdout",
     "output_type": "stream",
     "text": [
      "No such file or directory\n"
     ]
    }
   ],
   "source": [
    "import tarfile\n",
    "\n",
    "try:\n",
    "    with tarfile.open(DATASET_NAME + DATASET_EXTENSION, \"r:gz\") as tar:\n",
    "        tar.extractall()\n",
    "except FileNotFoundError as e:\n",
    "    print(e.strerror)"
   ]
  },
  {
   "cell_type": "code",
   "execution_count": 25,
   "id": "a73cf850-645a-4b4a-851b-5f2fdccaef80",
   "metadata": {},
   "outputs": [
    {
     "name": "stdout",
     "output_type": "stream",
     "text": [
      "The system cannot find the file specified\n"
     ]
    }
   ],
   "source": [
    "try:\n",
    "    os.remove(DATASET_NAME + DATASET_EXTENSION)\n",
    "except OSError as e:\n",
    "    print(e.strerror)"
   ]
  },
  {
   "cell_type": "markdown",
   "id": "a8b4c810-690c-4143-9a81-5986389b179d",
   "metadata": {},
   "source": [
    "## 2.2 Перемещение изображений в директорию data/negative\n"
   ]
  },
  {
   "cell_type": "code",
   "execution_count": 26,
   "id": "71fa33b8-2e03-4ea5-99a0-9768fe709ff1",
   "metadata": {},
   "outputs": [
    {
     "name": "stdout",
     "output_type": "stream",
     "text": [
      "The system cannot find the path specified\n"
     ]
    }
   ],
   "source": [
    "try:\n",
    "    for directory in os.listdir(DATASET_NAME):\n",
    "        for file in os.listdir(os.path.join(DATASET_NAME, directory)):\n",
    "            EX_PATH = os.path.join(DATASET_NAME, directory, file)\n",
    "            NEW_PATH = os.path.join(NEG_PATH, file)\n",
    "            os.replace(EX_PATH, NEW_PATH)\n",
    "except FileNotFoundError as e:\n",
    "    print(e.strerror)"
   ]
  },
  {
   "cell_type": "code",
   "execution_count": 27,
   "id": "e41c24b0-c795-4307-91f9-fb2dca41652e",
   "metadata": {},
   "outputs": [
    {
     "name": "stdout",
     "output_type": "stream",
     "text": [
      "The system cannot find the file specified\n"
     ]
    }
   ],
   "source": [
    "try:\n",
    "    os.rmdir(\"lfw\")\n",
    "except OSError as e:\n",
    "    print(e.strerror)"
   ]
  },
  {
   "cell_type": "markdown",
   "id": "725b04ed-f34e-4cf9-b8dc-10f58b60f40c",
   "metadata": {},
   "source": [
    "## 2.3 Сбор позитивных и якорных изображений\n"
   ]
  },
  {
   "cell_type": "markdown",
   "id": "82666208-8c11-41c1-bb0c-e8dc93b768f9",
   "metadata": {},
   "source": [
    "#### Библиотека для создания уникальных названий изображений.\n"
   ]
  },
  {
   "cell_type": "code",
   "execution_count": 28,
   "id": "46b0e9db-2449-4983-919c-dba799a07443",
   "metadata": {},
   "outputs": [],
   "source": [
    "import uuid"
   ]
  },
  {
   "cell_type": "code",
   "execution_count": 29,
   "id": "773170c7-e619-490c-832e-ae4388ff62c8",
   "metadata": {},
   "outputs": [
    {
     "name": "stdout",
     "output_type": "stream",
     "text": [
      "Сохранено изображение data\\anchor\\0322ad4d-ae49-11ee-bafc-00155db61aec.jpg\n",
      "Сохранено изображение data\\positive\\0e3dedaa-ae49-11ee-9855-00155db61aec.jpg\n"
     ]
    }
   ],
   "source": [
    "# Установка соединения с веб-камерой\n",
    "cap = cv2.VideoCapture(0)\n",
    "\n",
    "# Отключение панели инструментов OpenCV\n",
    "cv2.namedWindow(\"Image Collection\", cv2.WINDOW_GUI_NORMAL)\n",
    "\n",
    "while cap.isOpened():\n",
    "    ret, frame = cap.read()\n",
    "\n",
    "    # Обрезание кадра до 250x250px\n",
    "    frame = frame[115 : 115 + 250, 195 : 195 + 250, :]\n",
    "\n",
    "    if cv2.waitKey(1) & 0xFF == ord(\"a\"):\n",
    "        # Создание уникального названия изображения\n",
    "        imgname = os.path.join(ANC_PATH, \"{}.jpg\".format(uuid.uuid1()))\n",
    "        # Запись образца\n",
    "        cv2.imwrite(imgname, frame)\n",
    "        print(f\"Сохранено изображение {imgname}\")\n",
    "\n",
    "    if cv2.waitKey(1) & 0xFF == ord(\"p\"):\n",
    "        # Создание уникального названия изображения\n",
    "        imgname = os.path.join(POS_PATH, \"{}.jpg\".format(uuid.uuid1()))\n",
    "        # Запись образца\n",
    "        cv2.imwrite(imgname, frame)\n",
    "        print(f\"Сохранено изображение {imgname}\")\n",
    "\n",
    "    cv2.imshow(\"Image Collection\", frame)\n",
    "    if cv2.waitKey(1) & 0xFF == ord(\"q\"):\n",
    "        break\n",
    "\n",
    "cap.release()\n",
    "cv2.destroyAllWindows()"
   ]
  },
  {
   "cell_type": "markdown",
   "id": "206df684-25e1-483b-b4b3-e60e89118a64",
   "metadata": {},
   "source": [
    "## 2.4 Дополнение данных\n"
   ]
  },
  {
   "cell_type": "code",
   "execution_count": null,
   "id": "2d0eedf2-d211-4a39-ae71-28e3607f6f61",
   "metadata": {},
   "outputs": [],
   "source": [
    "def data_aug(img):\n",
    "    data = []\n",
    "    for i in range(5):\n",
    "        img = tf.image.stateless_random_brightness(img, max_delta=0.02, seed=(1, 2))\n",
    "        img = tf.image.stateless_random_contrast(img, lower=0.6, upper=1, seed=(1, 3))\n",
    "        img = tf.image.stateless_random_flip_left_right(\n",
    "            img, seed=(np.random.randint(100), np.random.randint(100))\n",
    "        )\n",
    "        img = tf.image.stateless_random_jpeg_quality(\n",
    "            img,\n",
    "            min_jpeg_quality=90,\n",
    "            max_jpeg_quality=100,\n",
    "            seed=(np.random.randint(100), np.random.randint(100)),\n",
    "        )\n",
    "        img = tf.image.stateless_random_saturation(\n",
    "            img,\n",
    "            lower=0.9,\n",
    "            upper=1,\n",
    "            seed=(np.random.randint(100), np.random.randint(100)),\n",
    "        )\n",
    "        data.append(img)\n",
    "    return data"
   ]
  },
  {
   "cell_type": "code",
   "execution_count": null,
   "id": "7333e0b2-6523-487d-bc4e-d33ace6f205f",
   "metadata": {},
   "outputs": [],
   "source": [
    "for file_name in os.listdir(os.path.join(POS_PATH)):\n",
    "    img_path = os.path.join(POS_PATH, file_name)\n",
    "    img = cv2.imread(img_path)\n",
    "    augmented_images = data_aug(img)\n",
    "\n",
    "    for image in augmented_images:\n",
    "        cv2.imwrite(\n",
    "            os.path.join(POS_PATH, \"{}.jpg\".format(uuid.uuid1())), image.numpy()\n",
    "        )"
   ]
  },
  {
   "cell_type": "markdown",
   "id": "8e2bc0a9-c4a0-4ffb-b6ed-5b837a9a576e",
   "metadata": {},
   "source": [
    "# 3 Загрузка и предобработка изображений\n"
   ]
  },
  {
   "cell_type": "markdown",
   "id": "607184d8-1347-46c3-b047-8172e38dc477",
   "metadata": {},
   "source": [
    "## 3.1 Получение каталогов изображений\n"
   ]
  },
  {
   "cell_type": "code",
   "execution_count": 30,
   "id": "867df71a-e6d7-4bc1-ba42-ffc1a4aa8ad4",
   "metadata": {},
   "outputs": [],
   "source": [
    "anchor = tf.data.Dataset.list_files(os.path.join(ANC_PATH, \"*.jpg\")).take(300)\n",
    "positive = tf.data.Dataset.list_files(os.path.join(POS_PATH, \"*.jpg\")).take(300)\n",
    "negative = tf.data.Dataset.list_files(os.path.join(NEG_PATH, \"*.jpg\")).take(13233)"
   ]
  },
  {
   "cell_type": "markdown",
   "id": "19f67338-6426-45e8-8e9e-d1c6de4011b3",
   "metadata": {},
   "source": [
    "## 3.2 Предобработка - масштабирование и изменение размера\n"
   ]
  },
  {
   "cell_type": "code",
   "execution_count": 31,
   "id": "543f7dbd-3aef-4731-9871-3bc8452163bc",
   "metadata": {},
   "outputs": [],
   "source": [
    "def preprocess(file_path):\n",
    "    # Чтение изображения\n",
    "    byte_img = tf.io.read_file(file_path)\n",
    "    # Загрузка изображения\n",
    "    img = tf.io.decode_jpeg(byte_img)\n",
    "    # Изменение размера изображения на 105x105\n",
    "    img = tf.image.resize(img, (105, 105))\n",
    "    # Масштабирование изображения в диапазоне от 0 до 1\n",
    "    img = img / 255.0\n",
    "\n",
    "    return img"
   ]
  },
  {
   "cell_type": "markdown",
   "id": "41d7a666-3241-4b51-a1af-ada8c08cb720",
   "metadata": {},
   "source": [
    "## 3.3 Создание помеченного набора данных\n"
   ]
  },
  {
   "cell_type": "code",
   "execution_count": 32,
   "id": "32f4a56b-3f44-430c-9726-b01f969a2d85",
   "metadata": {},
   "outputs": [],
   "source": [
    "positives = tf.data.Dataset.zip(\n",
    "    (anchor, positive, tf.data.Dataset.from_tensor_slices(tf.ones(len(anchor))))\n",
    ")\n",
    "\n",
    "negatives = tf.data.Dataset.zip(\n",
    "    (anchor, negative, tf.data.Dataset.from_tensor_slices(tf.zeros(len(anchor))))\n",
    ")\n",
    "\n",
    "data = positives.concatenate(negatives)"
   ]
  },
  {
   "cell_type": "markdown",
   "id": "a1029d2f-6df6-4faa-94dd-6603377f9edb",
   "metadata": {},
   "source": [
    "## 3.4 Сборка тренировочных и тестовых данных\n"
   ]
  },
  {
   "cell_type": "code",
   "execution_count": 33,
   "id": "0288e101-9dd9-4ad9-8e0b-af344844b064",
   "metadata": {},
   "outputs": [],
   "source": [
    "def preprocess_twin(input_img, validation_img, label):\n",
    "    return (preprocess(input_img), preprocess(validation_img), label)"
   ]
  },
  {
   "cell_type": "markdown",
   "id": "e0b7d7fd-698c-4b11-a0ec-c9432cc037c1",
   "metadata": {},
   "source": [
    "#### Создание загрузчика данных\n"
   ]
  },
  {
   "cell_type": "code",
   "execution_count": 34,
   "id": "79ccb7f3-1aca-465a-bfaa-c2963d2d9038",
   "metadata": {},
   "outputs": [],
   "source": [
    "data = data.map(preprocess_twin)\n",
    "data = data.cache()\n",
    "data = data.shuffle(buffer_size=10000)"
   ]
  },
  {
   "cell_type": "markdown",
   "id": "6dec2152-9c65-45aa-a180-e240b8fc682f",
   "metadata": {},
   "source": [
    "#### Данные для обучения\n"
   ]
  },
  {
   "cell_type": "code",
   "execution_count": 35,
   "id": "b7202ab8-bf6f-4ccd-a4f7-99e43bbcdeec",
   "metadata": {},
   "outputs": [],
   "source": [
    "train_data = data.take(round(len(data) * 0.8))\n",
    "train_data = train_data.batch(16)\n",
    "train_data = train_data.prefetch(8)"
   ]
  },
  {
   "cell_type": "markdown",
   "id": "1c6b89c3-9325-4d21-9a80-39f9971d64a1",
   "metadata": {},
   "source": [
    "#### Данные для тестирования\n"
   ]
  },
  {
   "cell_type": "code",
   "execution_count": 36,
   "id": "e036d6f5-b0dc-4d26-b519-8596036ee56b",
   "metadata": {},
   "outputs": [],
   "source": [
    "test_data = data.skip(round(len(data) * 0.8))\n",
    "test_data = test_data.take(round(len(data) * 0.2))\n",
    "test_data = test_data.batch(16)\n",
    "test_data = test_data.prefetch(8)"
   ]
  },
  {
   "cell_type": "markdown",
   "id": "2248cfb3-3bd0-410d-8c47-9941ff527ef6",
   "metadata": {},
   "source": [
    "# 4. Разработка модели\n"
   ]
  },
  {
   "cell_type": "markdown",
   "id": "42d9c55c-66ec-482b-83fa-5f3972ba7eda",
   "metadata": {},
   "source": [
    "## 4.1 Построение слоя внедрения\n"
   ]
  },
  {
   "cell_type": "code",
   "execution_count": 37,
   "id": "cff47e9c-e3de-495f-bc64-ada3def7d289",
   "metadata": {},
   "outputs": [],
   "source": [
    "def make_embedding():\n",
    "    inp = Input(shape=(105, 105, 3), name=\"input_image\")\n",
    "\n",
    "    # Первый блок\n",
    "    c1 = Conv2D(64, (10, 10), activation=tf.nn.relu)(inp)\n",
    "    m1 = MaxPooling2D(64, (2, 2), padding=\"same\")(c1)\n",
    "\n",
    "    # Второй блок\n",
    "    c2 = Conv2D(128, (7, 7), activation=tf.nn.relu)(m1)\n",
    "    m2 = MaxPooling2D(64, (2, 2), padding=\"same\")(c2)\n",
    "\n",
    "    # Трейтий блок\n",
    "    c3 = Conv2D(128, (4, 4), activation=tf.nn.relu)(m2)\n",
    "    m3 = MaxPooling2D(64, (2, 2), padding=\"same\")(c3)\n",
    "\n",
    "    # Последний блок внедрения\n",
    "    c4 = Conv2D(256, (4, 4), activation=tf.nn.relu)(m3)\n",
    "    f1 = Flatten()(c4)\n",
    "    d1 = Dense(4096, activation=tf.nn.sigmoid)(f1)\n",
    "\n",
    "    return Model(inputs=[inp], outputs=[d1], name=\"embedding\")"
   ]
  },
  {
   "cell_type": "code",
   "execution_count": 38,
   "id": "b3a78c59-ea1d-4a0e-a486-16ae6fd940bd",
   "metadata": {},
   "outputs": [],
   "source": [
    "embedding = make_embedding()"
   ]
  },
  {
   "cell_type": "code",
   "execution_count": 39,
   "id": "f048d39c-a420-44a4-91a3-73db87049bb9",
   "metadata": {},
   "outputs": [
    {
     "name": "stdout",
     "output_type": "stream",
     "text": [
      "Model: \"embedding\"\n",
      "_________________________________________________________________\n",
      " Layer (type)                Output Shape              Param #   \n",
      "=================================================================\n",
      " input_image (InputLayer)    [(None, 105, 105, 3)]     0         \n",
      "                                                                 \n",
      " conv2d (Conv2D)             (None, 96, 96, 64)        19264     \n",
      "                                                                 \n",
      " max_pooling2d (MaxPooling2  (None, 48, 48, 64)        0         \n",
      " D)                                                              \n",
      "                                                                 \n",
      " conv2d_1 (Conv2D)           (None, 42, 42, 128)       401536    \n",
      "                                                                 \n",
      " max_pooling2d_1 (MaxPoolin  (None, 21, 21, 128)       0         \n",
      " g2D)                                                            \n",
      "                                                                 \n",
      " conv2d_2 (Conv2D)           (None, 18, 18, 128)       262272    \n",
      "                                                                 \n",
      " max_pooling2d_2 (MaxPoolin  (None, 9, 9, 128)         0         \n",
      " g2D)                                                            \n",
      "                                                                 \n",
      " conv2d_3 (Conv2D)           (None, 6, 6, 256)         524544    \n",
      "                                                                 \n",
      " flatten (Flatten)           (None, 9216)              0         \n",
      "                                                                 \n",
      " dense (Dense)               (None, 4096)              37752832  \n",
      "                                                                 \n",
      "=================================================================\n",
      "Total params: 38960448 (148.62 MB)\n",
      "Trainable params: 38960448 (148.62 MB)\n",
      "Non-trainable params: 0 (0.00 Byte)\n",
      "_________________________________________________________________\n"
     ]
    }
   ],
   "source": [
    "embedding.summary()"
   ]
  },
  {
   "cell_type": "markdown",
   "id": "884e29e0-7a3e-4828-ab45-85971b1ab9b9",
   "metadata": {},
   "source": [
    "## 4.2 Построение слоя расстояния\n"
   ]
  },
  {
   "cell_type": "code",
   "execution_count": 40,
   "id": "0ab40e7f-96e9-4d54-85ed-28d11e6082c4",
   "metadata": {},
   "outputs": [],
   "source": [
    "# Сиамский класс дистанции L1\n",
    "class L1Dist(Layer):\n",
    "    def __init__(self, **kwargs):\n",
    "        super().__init__()\n",
    "\n",
    "    # Вычисление схожести\n",
    "    def call(self, input_embedding, validation_embedding):\n",
    "        return tf.math.abs(input_embedding - validation_embedding)"
   ]
  },
  {
   "cell_type": "code",
   "execution_count": 41,
   "id": "a52d1c5d-8996-4c9a-b03c-5aa75e69d292",
   "metadata": {},
   "outputs": [],
   "source": [
    "@tf.keras.utils.register_keras_serializable(name=\"ConcatLayer\")\n",
    "class ConcatLayer(Layer):\n",
    "    def __init__(self, axis=0, **kwargs):\n",
    "        super().__init__(**kwargs)\n",
    "        self.axis = axis\n",
    "\n",
    "    def call(self, inputs):\n",
    "        return tf.concat(inputs, axis=self.axis)\n",
    "\n",
    "    def get_config(self):\n",
    "        config = super().get_config()\n",
    "        config.update({\"axis\": self.axis})\n",
    "        return config"
   ]
  },
  {
   "cell_type": "markdown",
   "id": "177089f6-61b9-4bd7-ac9f-e15e0bdae85b",
   "metadata": {},
   "source": [
    "## 4.3 Создание сиамской модели\n"
   ]
  },
  {
   "cell_type": "code",
   "execution_count": 42,
   "id": "1d969323-e499-4e11-9714-23e7b7dbfbe4",
   "metadata": {},
   "outputs": [],
   "source": [
    "def make_siamese_model():\n",
    "    input_image = Input(name=\"input_img\", shape=(105, 105, 3))\n",
    "\n",
    "    validation_image = Input(name=\"validation_img\", shape=(105, 105, 3))\n",
    "\n",
    "    inp_embedding = ConcatLayer()(embedding(input_image))\n",
    "    val_embedding = ConcatLayer()(embedding(validation_image))\n",
    "\n",
    "    # Объединение компонентов сиамского расстояния\n",
    "    siamese_layer = L1Dist()\n",
    "    siamese_layer._name = \"distance\"\n",
    "    distances = siamese_layer(inp_embedding, val_embedding)\n",
    "\n",
    "    # Слой классификации\n",
    "    classifier = Dense(1, activation=tf.nn.sigmoid)(distances)\n",
    "\n",
    "    return Model(\n",
    "        inputs=[input_image, validation_image],\n",
    "        outputs=classifier,\n",
    "        name=\"SiameseNetwork\",\n",
    "    )"
   ]
  },
  {
   "cell_type": "code",
   "execution_count": 43,
   "id": "72207f83-db43-4742-b1f1-a5e8601e21d1",
   "metadata": {},
   "outputs": [],
   "source": [
    "siamese_model = make_siamese_model()"
   ]
  },
  {
   "cell_type": "code",
   "execution_count": 44,
   "id": "2cacb861-d7ba-4173-9bf4-d582ff3e1cc6",
   "metadata": {},
   "outputs": [
    {
     "name": "stdout",
     "output_type": "stream",
     "text": [
      "Model: \"SiameseNetwork\"\n",
      "__________________________________________________________________________________________________\n",
      " Layer (type)                Output Shape                 Param #   Connected to                  \n",
      "==================================================================================================\n",
      " input_img (InputLayer)      [(None, 105, 105, 3)]        0         []                            \n",
      "                                                                                                  \n",
      " validation_img (InputLayer  [(None, 105, 105, 3)]        0         []                            \n",
      " )                                                                                                \n",
      "                                                                                                  \n",
      " embedding (Functional)      (None, 4096)                 3896044   ['input_img[0][0]',           \n",
      "                                                          8          'validation_img[0][0]']      \n",
      "                                                                                                  \n",
      " concat_layer (ConcatLayer)  (None, 4096)                 0         ['embedding[0][0]']           \n",
      "                                                                                                  \n",
      " concat_layer_1 (ConcatLaye  (None, 4096)                 0         ['embedding[1][0]']           \n",
      " r)                                                                                               \n",
      "                                                                                                  \n",
      " distance (L1Dist)           (None, 4096)                 0         ['concat_layer[0][0]',        \n",
      "                                                                     'concat_layer_1[0][0]']      \n",
      "                                                                                                  \n",
      " dense_1 (Dense)             (None, 1)                    4097      ['distance[0][0]']            \n",
      "                                                                                                  \n",
      "==================================================================================================\n",
      "Total params: 38964545 (148.64 MB)\n",
      "Trainable params: 38964545 (148.64 MB)\n",
      "Non-trainable params: 0 (0.00 Byte)\n",
      "__________________________________________________________________________________________________\n"
     ]
    }
   ],
   "source": [
    "siamese_model.summary()"
   ]
  },
  {
   "cell_type": "markdown",
   "id": "03c7596d-e73b-4c3f-aef1-b36479bf5e6a",
   "metadata": {},
   "source": [
    "# 5. Обучение\n"
   ]
  },
  {
   "cell_type": "markdown",
   "id": "6e2dee3e-8131-4ba0-94c5-d9377f35f3a2",
   "metadata": {},
   "source": [
    "## 5.1 Настройка потерь и оптимизатора\n"
   ]
  },
  {
   "cell_type": "code",
   "execution_count": 45,
   "id": "bca0d5b4-dd63-4942-b55e-cc2212158be0",
   "metadata": {},
   "outputs": [],
   "source": [
    "binary_cross_loss = tf.keras.losses.BinaryCrossentropy()"
   ]
  },
  {
   "cell_type": "code",
   "execution_count": 46,
   "id": "4824077b-d2ec-4111-8cb3-dc5fbbf9cf6a",
   "metadata": {},
   "outputs": [],
   "source": [
    "opt = tf.keras.optimizers.Adam(learning_rate=1e-5)"
   ]
  },
  {
   "cell_type": "markdown",
   "id": "552c129c-3961-4c79-a480-895ddee045ee",
   "metadata": {},
   "source": [
    "## 5.2 Установка контрольных точек\n"
   ]
  },
  {
   "cell_type": "code",
   "execution_count": 47,
   "id": "363f2da8-5108-49df-bbe7-d27b223e1602",
   "metadata": {},
   "outputs": [],
   "source": [
    "checkpoint_dir = \"./training_checkpoints\"\n",
    "checkpoint_prefix = os.path.join(checkpoint_dir, \"ckpt\")\n",
    "checkpoint = tf.train.Checkpoint(opt=opt, model=siamese_model)"
   ]
  },
  {
   "cell_type": "markdown",
   "id": "4b47680f-7b27-4b96-a86a-e05d81711fbd",
   "metadata": {},
   "source": [
    "## 5.3 Построение функции шага обучения\n"
   ]
  },
  {
   "cell_type": "code",
   "execution_count": 49,
   "id": "46d31af8-2355-4db7-bde4-2a91ec936415",
   "metadata": {},
   "outputs": [],
   "source": [
    "@tf.function\n",
    "def train_step(batch):\n",
    "    # Запись всех операций\n",
    "    with tf.GradientTape() as tape:\n",
    "        # Получение позитивного/негативного изображения\n",
    "        X = batch[:2]\n",
    "        # Получение метки\n",
    "        y = batch[2]\n",
    "\n",
    "        yhat = siamese_model(X, training=True)\n",
    "        # Вычисление потерь\n",
    "        loss = binary_cross_loss(y, yhat)\n",
    "    print(loss)\n",
    "\n",
    "    # Вычисление градиентов\n",
    "    grad = tape.gradient(loss, siamese_model.trainable_variables)\n",
    "\n",
    "    # Вычисление обновленных весов и применение их к сиамской модели.\n",
    "    opt.apply_gradients(zip(grad, siamese_model.trainable_variables))\n",
    "\n",
    "    return loss"
   ]
  },
  {
   "cell_type": "markdown",
   "id": "dba10ddc-1c61-48f2-9957-1d6d0cc584c2",
   "metadata": {},
   "source": [
    "## 5.4 Построение цикла обучения\n"
   ]
  },
  {
   "cell_type": "code",
   "execution_count": 50,
   "id": "d2f391ab-58dd-4259-b03d-13a4e886de48",
   "metadata": {},
   "outputs": [],
   "source": [
    "# Импортирование классов для вычисления точности и памяти модели\n",
    "from tensorflow.keras.metrics import Precision, Recall"
   ]
  },
  {
   "cell_type": "code",
   "execution_count": 51,
   "id": "008dbdfb-84df-4c8d-b74f-267c90d93e51",
   "metadata": {},
   "outputs": [],
   "source": [
    "def train(data, EPOCHS):\n",
    "    # Цикл по эпохам\n",
    "    for epoch in range(1, EPOCHS + 1):\n",
    "        print(\"\\n Эпоха {}/{}\".format(epoch, EPOCHS))\n",
    "        progbar = tf.keras.utils.Progbar(len(data))\n",
    "\n",
    "        # Создание объектов метрик\n",
    "        r = Recall()\n",
    "        p = Precision()\n",
    "\n",
    "        # Цикл по каждой партии\n",
    "        for idx, batch in enumerate(data):\n",
    "            # Запуск шага обучения\n",
    "            loss = train_step(batch)\n",
    "            yhat = siamese_model.predict(batch[:2])\n",
    "            r.update_state(batch[2], yhat)\n",
    "            p.update_state(batch[2], yhat)\n",
    "            progbar.update(idx + 1)\n",
    "        print(loss.numpy(), r.result().numpy(), p.result().numpy())\n",
    "\n",
    "        # Сохранение контрольных точек\n",
    "        if epoch % 10 == 0:\n",
    "            checkpoint.save(file_prefix=checkpoint_prefix)"
   ]
  },
  {
   "cell_type": "markdown",
   "id": "2d76bf12-950d-4918-8810-485e31519d3d",
   "metadata": {},
   "source": [
    "## 5.5 Обучение модели\n"
   ]
  },
  {
   "cell_type": "code",
   "execution_count": 52,
   "id": "e41a5d01-8679-4642-bb26-e9c5e91ee693",
   "metadata": {},
   "outputs": [],
   "source": [
    "EPOCHS = 10"
   ]
  },
  {
   "cell_type": "code",
   "execution_count": null,
   "id": "2f7be0f5-777f-4413-a314-2ed0c2a708d1",
   "metadata": {},
   "outputs": [],
   "source": [
    "train(train_data, EPOCHS)"
   ]
  },
  {
   "cell_type": "markdown",
   "id": "ec3aec95-2991-461c-bb86-ca804540a0c2",
   "metadata": {},
   "source": [
    "# 6. Оценка модели\n"
   ]
  },
  {
   "cell_type": "markdown",
   "id": "896f331d-1416-45e3-a36b-33a2e617a930",
   "metadata": {},
   "source": [
    "## 6.1 Прогнозы\n"
   ]
  },
  {
   "cell_type": "code",
   "execution_count": 53,
   "id": "41c477f1-681e-479e-a7d4-597074323ef3",
   "metadata": {},
   "outputs": [],
   "source": [
    "# Получение партии тестовых данных\n",
    "test_input, test_val, y_true = test_data.as_numpy_iterator().next()"
   ]
  },
  {
   "cell_type": "code",
   "execution_count": 54,
   "id": "485d603d-2a48-488e-932a-9207c364335e",
   "metadata": {},
   "outputs": [
    {
     "name": "stdout",
     "output_type": "stream",
     "text": [
      "1/1 [==============================] - 0s 409ms/step\n"
     ]
    }
   ],
   "source": [
    "y_hat = siamese_model.predict([test_input, test_val])"
   ]
  },
  {
   "cell_type": "code",
   "execution_count": 55,
   "id": "f67c8928-0ded-456c-b99a-497081daf885",
   "metadata": {},
   "outputs": [
    {
     "data": {
      "text/plain": [
       "[1, 1]"
      ]
     },
     "execution_count": 55,
     "metadata": {},
     "output_type": "execute_result"
    }
   ],
   "source": [
    "# Постобработка результатов\n",
    "[1 if prediction > 0.5 else 0 for prediction in y_hat]"
   ]
  },
  {
   "cell_type": "code",
   "execution_count": 56,
   "id": "2e14402a-b8a7-4e13-86c0-9c04e6288079",
   "metadata": {},
   "outputs": [
    {
     "data": {
      "text/plain": [
       "array([0., 1.], dtype=float32)"
      ]
     },
     "execution_count": 56,
     "metadata": {},
     "output_type": "execute_result"
    }
   ],
   "source": [
    "y_true"
   ]
  },
  {
   "cell_type": "markdown",
   "id": "085edc64-e2ca-4526-b669-616c47e4ef0d",
   "metadata": {},
   "source": [
    "## 6.2 Вычисление показателей\n"
   ]
  },
  {
   "cell_type": "code",
   "execution_count": 57,
   "id": "74eb3c91-01f8-4fe9-bdb2-81f870bd9f29",
   "metadata": {},
   "outputs": [
    {
     "name": "stdout",
     "output_type": "stream",
     "text": [
      "1/1 [==============================] - 0s 247ms/step\n",
      "1.0 0.5\n"
     ]
    }
   ],
   "source": [
    "# Создание экземпляров показателей\n",
    "r = Recall()\n",
    "p = Precision()\n",
    "\n",
    "for test_input, test_val, y_true in test_data.as_numpy_iterator():\n",
    "    yhat = siamese_model.predict([test_input, test_val])\n",
    "    # Вычисление значений показателей\n",
    "    r.update_state(y_true, yhat)\n",
    "    p.update_state(y_true, yhat)\n",
    "# Вывод результатов\n",
    "print(r.result().numpy(), p.result().numpy())"
   ]
  },
  {
   "cell_type": "markdown",
   "id": "ffd9e52c-5508-4eaa-bfdb-577ef429b1fa",
   "metadata": {},
   "source": [
    "## 6.3 Визуализация результатов\n"
   ]
  },
  {
   "cell_type": "code",
   "execution_count": 58,
   "id": "360516e0-adab-4ea8-be0b-28af63c9c488",
   "metadata": {},
   "outputs": [
    {
     "data": {
      "image/png": "[encoded data removed]",
      "text/plain": [
       "<Figure size 1000x800 with 2 Axes>"
      ]
     },
     "metadata": {},
     "output_type": "display_data"
    }
   ],
   "source": [
    "# Установка размера\n",
    "plt.figure(figsize=(10, 8))\n",
    "\n",
    "# Установка первого изображения\n",
    "plt.subplot(1, 2, 1)\n",
    "plt.imshow(test_input[0])\n",
    "\n",
    "# Установка второго изображения\n",
    "plt.subplot(1, 2, 2)\n",
    "plt.imshow(test_val[0])\n",
    "\n",
    "plt.show()"
   ]
  },
  {
   "cell_type": "markdown",
   "id": "8a80a0d0-e6af-46a9-b1c1-a74e4281f576",
   "metadata": {},
   "source": [
    "# 7. Сохранение модели\n"
   ]
  },
  {
   "cell_type": "code",
   "execution_count": 59,
   "id": "43f84c92-028e-4b49-8f86-bc0dc126838f",
   "metadata": {},
   "outputs": [],
   "source": [
    "siamese_model.save(\"siamese_model.keras\")"
   ]
  },
  {
   "cell_type": "markdown",
   "id": "2c8289cd-1230-46d0-a3e0-f3af7b461208",
   "metadata": {},
   "source": [
    "# 8 Загрузка модели\n"
   ]
  },
  {
   "cell_type": "code",
   "execution_count": 60,
   "id": "f482f4ae-85c2-4887-b8cf-f26fbff8cd4e",
   "metadata": {},
   "outputs": [],
   "source": [
    "siamese_model = tf.keras.models.load_model(\n",
    "    \"siamese_model.keras\", custom_objects={\"L1Dist\": L1Dist}\n",
    ")"
   ]
  },
  {
   "cell_type": "markdown",
   "id": "35ac61dd-8923-4543-bd31-07835f99700a",
   "metadata": {},
   "source": [
    "#### Оценка прогнозов загруженной модели\n"
   ]
  },
  {
   "cell_type": "code",
   "execution_count": 61,
   "id": "b135d3a4-7386-4714-8319-4f932ba14067",
   "metadata": {},
   "outputs": [
    {
     "name": "stdout",
     "output_type": "stream",
     "text": [
      "1/1 [==============================] - 0s 364ms/step\n"
     ]
    },
    {
     "data": {
      "text/plain": [
       "array([[0.00124915],\n",
       "       [0.48436457]], dtype=float32)"
      ]
     },
     "execution_count": 61,
     "metadata": {},
     "output_type": "execute_result"
    }
   ],
   "source": [
    "siamese_model.predict([test_input, test_val])"
   ]
  },
  {
   "cell_type": "code",
   "execution_count": 62,
   "id": "12b7f50c-3026-4f8e-a459-57a77206ba54",
   "metadata": {},
   "outputs": [
    {
     "name": "stdout",
     "output_type": "stream",
     "text": [
      "Model: \"SiameseNetwork\"\n",
      "__________________________________________________________________________________________________\n",
      " Layer (type)                Output Shape                 Param #   Connected to                  \n",
      "==================================================================================================\n",
      " input_img (InputLayer)      [(None, 105, 105, 3)]        0         []                            \n",
      "                                                                                                  \n",
      " validation_img (InputLayer  [(None, 105, 105, 3)]        0         []                            \n",
      " )                                                                                                \n",
      "                                                                                                  \n",
      " embedding (Functional)      (None, 4096)                 3896044   ['input_img[0][0]',           \n",
      "                                                          8          'validation_img[0][0]']      \n",
      "                                                                                                  \n",
      " concat_layer (ConcatLayer)  (None, 4096)                 0         ['embedding[0][0]']           \n",
      "                                                                                                  \n",
      " concat_layer_1 (ConcatLaye  (None, 4096)                 0         ['embedding[1][0]']           \n",
      " r)                                                                                               \n",
      "                                                                                                  \n",
      " l1_dist_1 (L1Dist)          (None, 4096)                 0         ['concat_layer[0][0]',        \n",
      "                                                                     'concat_layer_1[0][0]']      \n",
      "                                                                                                  \n",
      " dense_1 (Dense)             (None, 1)                    4097      ['l1_dist_1[0][0]']           \n",
      "                                                                                                  \n",
      "==================================================================================================\n",
      "Total params: 38964545 (148.64 MB)\n",
      "Trainable params: 38964545 (148.64 MB)\n",
      "Non-trainable params: 0 (0.00 Byte)\n",
      "__________________________________________________________________________________________________\n"
     ]
    }
   ],
   "source": [
    "siamese_model.summary()"
   ]
  },
  {
   "cell_type": "markdown",
   "id": "0f7a03cf-807e-4002-90c6-0f5026609c8d",
   "metadata": {},
   "source": [
    "# 9 Проверка работы модели в реальном времени\n"
   ]
  },
  {
   "cell_type": "markdown",
   "id": "789c2862-dd3c-4048-b656-853df6c479b8",
   "metadata": {},
   "source": [
    "## 9.1 Функция подтверждения\n"
   ]
  },
  {
   "cell_type": "code",
   "execution_count": 64,
   "id": "ef280f2a-bcdd-4359-aaab-7937420b179c",
   "metadata": {},
   "outputs": [
    {
     "name": "stdout",
     "output_type": "stream",
     "text": [
      "application_data\\verification_images\\605aaca2-aa01-11ee-9305-00155d4bec0f.jpg\n",
      "application_data\\verification_images\\6b75d4ae-aa01-11ee-9305-00155d4bec0f.jpg\n",
      "application_data\\verification_images\\96dd0ae3-ae08-11ee-9c67-00155def1613.jpg\n"
     ]
    }
   ],
   "source": [
    "for image in os.listdir(VERIF_IMG_PATH):\n",
    "    validation_img = os.path.join(VERIF_IMG_PATH, image)\n",
    "    print(validation_img)"
   ]
  },
  {
   "cell_type": "code",
   "execution_count": 65,
   "id": "405a2ab2-dee8-4089-aff2-6c49f2e11df6",
   "metadata": {},
   "outputs": [],
   "source": [
    "def verify(model, detection_threshold, verification_threshold):\n",
    "    # Построение массива результатов прогнозов\n",
    "    results = []\n",
    "    for image in os.listdir(VERIF_IMG_PATH):\n",
    "        input_img = preprocess(INPUT_IMG_PATH)\n",
    "        validation_img = preprocess(os.path.join(VERIF_IMG_PATH, image))\n",
    "\n",
    "        # Результаты прогнозов\n",
    "        result = model.predict(\n",
    "            list(np.expand_dims([input_img, validation_img], axis=1))\n",
    "        )\n",
    "        results.append(result)\n",
    "\n",
    "    # Порог обнаружения: Показатель, прогноз выше которого  считается положительным\n",
    "    detection = np.sum(np.array(results) > detection_threshold)\n",
    "\n",
    "    # Порог подтверждения: Доля положительных прогнозов / Общее количество положительных образцов\n",
    "    verification = detection / len(os.listdir(VERIF_IMG_PATH))\n",
    "    verified = verification > verification_threshold\n",
    "\n",
    "    return results, verified"
   ]
  },
  {
   "cell_type": "markdown",
   "id": "b6c15bb2-ff62-40b5-9573-f68f7bc8bbfd",
   "metadata": {},
   "source": [
    "## 9.2 Распознавание лица в реальном времени с OpenCV\n"
   ]
  },
  {
   "cell_type": "code",
   "execution_count": 66,
   "id": "419a8c0d-7729-48f4-9d17-82c29c7f790f",
   "metadata": {
    "collapsed": true,
    "jupyter": {
     "outputs_hidden": true
    },
    "scrolled": true
   },
   "outputs": [
    {
     "name": "stdout",
     "output_type": "stream",
     "text": [
      "1/1 [==============================] - 0s 218ms/step\n",
      "1/1 [==============================] - 0s 222ms/step\n",
      "1/1 [==============================] - 0s 217ms/step\n",
      "False\n",
      "1/1 [==============================] - 0s 232ms/step\n",
      "1/1 [==============================] - 0s 220ms/step\n",
      "1/1 [==============================] - 0s 217ms/step\n",
      "False\n",
      "1/1 [==============================] - 0s 221ms/step\n",
      "1/1 [==============================] - 0s 215ms/step\n",
      "1/1 [==============================] - 0s 220ms/step\n",
      "False\n",
      "1/1 [==============================] - 0s 220ms/step\n",
      "1/1 [==============================] - 0s 224ms/step\n",
      "1/1 [==============================] - 0s 219ms/step\n",
      "False\n",
      "1/1 [==============================] - 0s 256ms/step\n",
      "1/1 [==============================] - 0s 224ms/step\n",
      "1/1 [==============================] - 0s 241ms/step\n",
      "False\n",
      "1/1 [==============================] - 0s 218ms/step\n",
      "1/1 [==============================] - 0s 219ms/step\n",
      "1/1 [==============================] - 0s 227ms/step\n",
      "False\n",
      "1/1 [==============================] - 0s 217ms/step\n",
      "1/1 [==============================] - 0s 224ms/step\n",
      "1/1 [==============================] - 0s 220ms/step\n",
      "False\n",
      "1/1 [==============================] - 0s 218ms/step\n",
      "1/1 [==============================] - 0s 217ms/step\n",
      "1/1 [==============================] - 0s 218ms/step\n",
      "False\n"
     ]
    }
   ],
   "source": [
    "cap = cv2.VideoCapture(0)\n",
    "\n",
    "# Отключение панели инструментов OpenCV\n",
    "cv2.namedWindow(\"Verification\", cv2.WINDOW_GUI_NORMAL)\n",
    "\n",
    "while cap.isOpened():\n",
    "    ret, frame = cap.read()\n",
    "    cv2.imshow(\"Verification\", frame)\n",
    "\n",
    "    # Триггер проверки\n",
    "    if cv2.waitKey(1) & 0xFF == ord(\"v\"):\n",
    "        cut_frame = frame[120 : 120 + 250, 200 : 200 + 250, :]\n",
    "        # Сохранение входного изображения в директорию application_data/input_image\n",
    "        hsv = cv2.cvtColor(cut_frame, cv2.COLOR_BGR2HSV)\n",
    "        h, s, v = cv2.split(hsv)\n",
    "\n",
    "        lim = 255 - 10\n",
    "        v[v > lim] = 255\n",
    "        v[v <= lim] -= 10\n",
    "\n",
    "        final_hsv = cv2.merge((h, s, v))\n",
    "        img = cv2.cvtColor(final_hsv, cv2.COLOR_HSV2BGR)\n",
    "\n",
    "        cv2.imwrite(INPUT_IMG_PATH, cut_frame)\n",
    "        # Подтверждение\n",
    "        results, verified = verify(siamese_model, 0.7, 0.4)\n",
    "        print(verified)\n",
    "\n",
    "    if cv2.waitKey(1) & 0xFF == ord(\"q\"):\n",
    "        break\n",
    "\n",
    "cap.release()\n",
    "cv2.destroyAllWindows()"
   ]
  },
  {
   "cell_type": "code",
   "execution_count": 67,
   "id": "ab8f0788-20e7-4059-b6c8-7fe9a452c164",
   "metadata": {},
   "outputs": [
    {
     "data": {
      "text/plain": [
       "0"
      ]
     },
     "execution_count": 67,
     "metadata": {},
     "output_type": "execute_result"
    }
   ],
   "source": [
    "np.sum(np.squeeze(results) > 0.9)"
   ]
  },
  {
   "cell_type": "code",
   "execution_count": 68,
   "id": "2bdcf8ff-834e-40f1-bdb2-ac98838fe02b",
   "metadata": {},
   "outputs": [
    {
     "data": {
      "text/plain": [
       "[array([[0.50326824]], dtype=float32),\n",
       " array([[0.08727527]], dtype=float32),\n",
       " array([[0.01921232]], dtype=float32)]"
      ]
     },
     "execution_count": 68,
     "metadata": {},
     "output_type": "execute_result"
    }
   ],
   "source": [
    "results"
   ]
  },
  {
   "cell_type": "code",
   "execution_count": null,
   "id": "d7b1c038-3aa5-4d4c-b731-ecc43a32b66d",
   "metadata": {},
   "outputs": [],
   "source": []
  }
 ],
 "metadata": {
  "kernelspec": {
   "display_name": "Python 3 (ipykernel)",
   "language": "python",
   "name": "python3"
  },
  "language_info": {
   "codemirror_mode": {
    "name": "ipython",
    "version": 3
   },
   "file_extension": ".py",
   "mimetype": "text/x-python",
   "name": "python",
   "nbconvert_exporter": "python",
   "pygments_lexer": "ipython3",
   "version": "3.11.7"
  }
 },
 "nbformat": 4,
 "nbformat_minor": 5
}
